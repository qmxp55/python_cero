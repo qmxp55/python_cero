{
 "cells": [
  {
   "cell_type": "markdown",
   "metadata": {},
   "source": [
    "<hr style=\"border: solid 1px red; margin-bottom: 2% \">\n",
    "\n",
    "## Hazlo Python curso de python\n",
    "# PYTHON DESDE CERO: Conceptos básicos\n",
    "### Autor: Omar Ruiz\n",
    "<hr style=\"border: solid 1px red; margin-bottom: -1%; \">\n",
    "<br>\n",
    "\n",
    "## Siguenos en:\n",
    "\n",
    "### TikTok: https://www.tiktok.com/@hazlopython\n",
    "### YouTube: https://youtube.com/channel/UCPDTTkT7P_RmVrO_J24ZeKQ\n",
    "### Instagram: https://www.instagram.com/hazlo.python/\n",
    "### Mas informacion: https://beacons.ai/hazlo.python\n",
    "\n",
    "<br>\n",
    "\n",
    "<img src=\"../imagenes/logo.png\" style=\"float: center; width: 30%\">\n",
    "<img src=\"../imagenes/qrcode_beacons.ai.png\" style=\"float: center; width: 10%\">\n"
   ]
  },
  {
   "cell_type": "markdown",
   "metadata": {},
   "source": [
    "<hr style=\"border: solid 1px green; margin-bottom: 2% \">\n",
    "\n",
    "## Contenido\n",
    "<br>\n",
    "\n",
    "### Modulo 1: Conceptos básicos\n",
    "\n",
    "* #### ¿Cómo usar Python?\n",
    "* #### Tipos de datos\n",
    "* #### <mark>Estructuras de datos</mark>\n",
    "* #### <mark>operadores de comparacion y logicos</mark>\n",
    "* #### Ciclos y condicionales\n",
    "* #### funciones\n",
    "* #### Importar modulos\n",
    "\n",
    "### Modulo 2: Numpy\n",
    "### Modulo 3: Matplotlib\n",
    "\n",
    "<br>\n",
    "\n",
    "## Material\n",
    "\n",
    "### GitHub: https://github.com/qmxp55/python_cero/blob/master/modulo1/estructuras_operadores.ipynb\n",
    "\n",
    "<hr style=\"border: solid 1px green; margin-bottom: 2% \">"
   ]
  },
  {
   "cell_type": "markdown",
   "metadata": {
    "tags": []
   },
   "source": [
    "<hr style=\"border: solid 1px red; margin-bottom: 1% \">\n",
    "\n",
    "## Estructuras de datos\n",
    "<hr style=\"border: solid 1px red; margin-bottom: 2% \">\n",
    "<br>\n",
    "\n",
    "* **Lista** se usa `[]`\n",
    "* **Tupla** se usa `()`\n",
    "* **Diccionario** se usa `{}`\n",
    "\n",
    " "
   ]
  },
  {
   "cell_type": "code",
   "execution_count": 1,
   "metadata": {},
   "outputs": [],
   "source": [
    "lista = [2, 'c', '3.1415', True]\n",
    "tupla = (1,2,3,4)\n",
    "dicc = {'key1' : 1, 'key2' : '2'}\n"
   ]
  },
  {
   "cell_type": "code",
   "execution_count": 2,
   "metadata": {},
   "outputs": [
    {
     "name": "stdout",
     "output_type": "stream",
     "text": [
      "2\n",
      "3\n",
      "1\n"
     ]
    }
   ],
   "source": [
    "#\n",
    "print(lista[0])\n",
    "print(tupla[2])\n",
    "print(dicc['key1'])"
   ]
  },
  {
   "cell_type": "code",
   "execution_count": 3,
   "metadata": {},
   "outputs": [
    {
     "name": "stdout",
     "output_type": "stream",
     "text": [
      "['c', '3.1415']\n",
      "(2, 3)\n",
      "dict_keys(['key1', 'key2'])\n",
      "dict_values([1, '2'])\n"
     ]
    }
   ],
   "source": [
    "print(lista[1:3])\n",
    "print(tupla[1:3])\n",
    "print(dicc.keys())\n",
    "print(dicc.values())"
   ]
  },
  {
   "cell_type": "code",
   "execution_count": 4,
   "metadata": {},
   "outputs": [],
   "source": [
    "lista[2] = 1\n",
    "dicc['key1'] = 3.1415"
   ]
  },
  {
   "cell_type": "code",
   "execution_count": 5,
   "metadata": {},
   "outputs": [
    {
     "ename": "TypeError",
     "evalue": "'tuple' object does not support item assignment",
     "output_type": "error",
     "traceback": [
      "\u001b[0;31m---------------------------------------------------------------------------\u001b[0m",
      "\u001b[0;31mTypeError\u001b[0m                                 Traceback (most recent call last)",
      "\u001b[0;32m<ipython-input-5-596200b63968>\u001b[0m in \u001b[0;36m<module>\u001b[0;34m\u001b[0m\n\u001b[0;32m----> 1\u001b[0;31m \u001b[0mtupla\u001b[0m\u001b[0;34m[\u001b[0m\u001b[0;36m2\u001b[0m\u001b[0;34m]\u001b[0m \u001b[0;34m=\u001b[0m \u001b[0;36m1\u001b[0m\u001b[0;34m\u001b[0m\u001b[0;34m\u001b[0m\u001b[0m\n\u001b[0m",
      "\u001b[0;31mTypeError\u001b[0m: 'tuple' object does not support item assignment"
     ]
    }
   ],
   "source": [
    "tupla[2] = 1"
   ]
  },
  {
   "cell_type": "markdown",
   "metadata": {},
   "source": [
    "<hr style=\"border: solid 1px red; margin-bottom: 1% \">\n",
    "\n",
    "## Operadores lógicos\n",
    "<hr style=\"border: solid 1px red; margin-bottom: 2% \">\n",
    "<br>\n",
    "\n",
    "Estos son `and`, `or`, y `not`. Son operadores booleanos ya que operan con datos booleanos.\n"
   ]
  },
  {
   "cell_type": "code",
   "execution_count": 6,
   "metadata": {},
   "outputs": [
    {
     "name": "stdout",
     "output_type": "stream",
     "text": [
      "False\n",
      "True\n",
      "False\n"
     ]
    }
   ],
   "source": [
    "x = True\n",
    "y = False\n",
    "\n",
    "print(x and y)\n",
    "print(x or y)\n",
    "print(not x)"
   ]
  },
  {
   "cell_type": "code",
   "execution_count": 7,
   "metadata": {},
   "outputs": [
    {
     "name": "stdout",
     "output_type": "stream",
     "text": [
      "False\n",
      "True\n"
     ]
    }
   ],
   "source": [
    "print(x & y)\n",
    "print(x | y)"
   ]
  },
  {
   "cell_type": "markdown",
   "metadata": {},
   "source": [
    "<hr style=\"border: solid 1px red; margin-bottom: 1% \">\n",
    "\n",
    "## Operadores de comparación\n",
    "<hr style=\"border: solid 1px red; margin-bottom: 2% \">\n",
    "<br>\n",
    "\n",
    "Se utilizan para comparar do o mas elementos. El resultado siempre es un booleano. Estos son: `>`, `<`, `=`.\n"
   ]
  },
  {
   "cell_type": "code",
   "execution_count": 8,
   "metadata": {},
   "outputs": [
    {
     "name": "stdout",
     "output_type": "stream",
     "text": [
      "True\n",
      "False\n",
      "False\n"
     ]
    }
   ],
   "source": [
    "x = 2\n",
    "y = 7\n",
    "\n",
    "print(x < y)\n",
    "print(x > y)\n",
    "print(x == y)"
   ]
  },
  {
   "cell_type": "code",
   "execution_count": 9,
   "metadata": {},
   "outputs": [
    {
     "name": "stdout",
     "output_type": "stream",
     "text": [
      "True\n",
      "False\n"
     ]
    }
   ],
   "source": [
    "x = 5\n",
    "print(x > 1 and x < 7)\n",
    "print(x > 1 and x < 4)\n"
   ]
  }
 ],
 "metadata": {
  "interpreter": {
   "hash": "ef2f59ba1db37f53fafe2f4c6104d9aee6529c2784708659be79ec563f1c1ddb"
  },
  "kernelspec": {
   "display_name": "Python 3.8.11 64-bit ('pythoncero': conda)",
   "name": "python3"
  },
  "language_info": {
   "codemirror_mode": {
    "name": "ipython",
    "version": 3
   },
   "file_extension": ".py",
   "mimetype": "text/x-python",
   "name": "python",
   "nbconvert_exporter": "python",
   "pygments_lexer": "ipython3",
   "version": "3.8.11"
  }
 },
 "nbformat": 4,
 "nbformat_minor": 5
}