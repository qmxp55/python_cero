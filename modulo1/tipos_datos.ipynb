{
 "cells": [
  {
   "cell_type": "markdown",
   "id": "c7f73899-3852-4255-8f54-f4180b727222",
   "metadata": {},
   "source": [
    "<hr style=\"border: solid 1px red; margin-bottom: 2% \">\n",
    "\n",
    "## Hazlo Python curso de python\n",
    "# PYTHON DESDE CERO: Conceptos básicos\n",
    "### Autor: Omar Ruiz\n",
    "<hr style=\"border: solid 1px red; margin-bottom: -1%; \">\n",
    "<br>\n",
    "\n",
    "## Siguenos en:\n",
    "\n",
    "### TikTok: https://www.tiktok.com/@hazlopython\n",
    "### YouTube: https://youtube.com/channel/UCPDTTkT7P_RmVrO_J24ZeKQ\n",
    "### Instagram: https://www.instagram.com/hazlo.python/\n",
    "### Mas informacion: https://beacons.ai/hazlo.python\n",
    "\n",
    "<br>\n",
    "\n",
    "<img src=\"../imagenes/logo.png\" style=\"float: center; width: 30%\">\n",
    "<img src=\"../imagenes/qrcode_beacons.ai.png\" style=\"float: center; width: 10%\">\n"
   ]
  },
  {
   "cell_type": "markdown",
   "id": "d46ed13c-d0f9-44e6-b523-22c427fed9fd",
   "metadata": {},
   "source": [
    "<hr style=\"border: solid 1px green; margin-bottom: -1% \">\n",
    "\n",
    "## Contenido\n",
    "<br>\n",
    "\n",
    "### Modulo 1: Conceptos básicos\n",
    "\n",
    "* #### <mark>¿Cómo usar Python?</mark>\n",
    "* #### <mark>Tipos de datos</mark>\n",
    "* #### Estructuras de datos\n",
    "* #### operadores de comparacion y logicos\n",
    "* #### Ciclos y condicionales\n",
    "* #### funciones\n",
    "* #### Importar modulos\n",
    "\n",
    "### Modulo 2: Numpy\n",
    "### Modulo 3: Matplotlib\n",
    "\n",
    "<br>\n",
    "\n",
    "## Material\n",
    "<br>\n",
    "\n",
    "#### GitHub:\n",
    "#### Google Colab:\n",
    "\n",
    "<hr style=\"border: solid 1px green; margin-bottom: 2% \">"
   ]
  },
  {
   "cell_type": "markdown",
   "id": "5efe180b-9786-4542-85aa-b5fa240af38d",
   "metadata": {
    "tags": []
   },
   "source": [
    "<hr style=\"border: solid 1px red; margin-bottom: -1% \">\n",
    "\n",
    "## ¿Cómo usar Python?\n",
    "<hr style=\"border: solid 1px red; margin-bottom: 2% \">\n",
    "<br>\n",
    "\n",
    "* **Modo interactivo** Ejecutar python desde la linea de comandos de python.\n",
    "\n",
    "```bash\n",
    "terminal> python\n",
    ">>> print(\"Hello World!\")\n",
    "```\n",
    "    salimos con\n",
    "```bash \n",
    "exit() \n",
    "```\n",
    "\n",
    "* **Modo no interactivo** Ejecutar python desde un script.\n",
    "\n",
    "Usamos el editor de nuestra preferencia para crear el archivo `hello.py`\n",
    "```python\n",
    "print(\"Hellow World!\")\n",
    "```\n",
    "Ejecutamos el script desde la terminal con el comando:\n",
    "```bash\n",
    "terminal> python script.py\n",
    "```\n",
    "\n",
    "* **Modo interactivo alternativo**\n",
    "\n",
    "    * Jupyter notebook: Documento web interactivo.\n",
    "    \n",
    "        * Las entradas se dividen en celdas\n",
    "        * Celda tipo `Markdown` para Texto, imagenes, ecuaciones\n",
    "        * Celda tipo `Code` para ejecutar codigo\n",
    "        * Las celdas se ejecutan con `SHIFT+ENTER`\n",
    " "
   ]
  },
  {
   "cell_type": "code",
   "execution_count": null,
   "id": "36e271c4-bb8f-4a26-96ea-539f969c1c43",
   "metadata": {},
   "outputs": [],
   "source": [
    "print(\"Hello World!\")"
   ]
  },
  {
   "cell_type": "markdown",
   "id": "29e81c89-fbca-474c-8267-3501d2b4c3df",
   "metadata": {},
   "source": [
    "<hr style=\"border: solid 1px red; margin-bottom: -1% \">\n",
    "\n",
    "## Tipos de datos\n",
    "<hr style=\"border: solid 1px red; margin-bottom: 2% \">\n",
    "<br>\n",
    "\n",
    "* En Python no hay que declarar el tipo de variable como en otros lenguajes de programacion, sino que aquí todo es dinamico.\n",
    "\n",
    "* Los tipos basicos de datos son:\n",
    "    * integers (enteros)\n",
    "    * floats (flotantes)\n",
    "    * strings (cadena de caracteres)\n",
    "    * Boolean (booleano)\n"
   ]
  },
  {
   "cell_type": "code",
   "execution_count": null,
   "id": "14294734-23e1-46bb-b446-0c5774778308",
   "metadata": {},
   "outputs": [],
   "source": [
    "n = 7\n",
    "pi = 3.1415\n",
    "string1 = \"comillas dobles\"\n",
    "string2 = 'o comillas simples'\n",
    "booleano = True\n",
    "\n",
    "print(n, pi, string1, string2, booleano)"
   ]
  },
  {
   "cell_type": "code",
   "execution_count": null,
   "id": "f9412559-868a-4c50-ae5d-39efcf31bb9e",
   "metadata": {},
   "outputs": [],
   "source": [
    "# Encuentra el tipo de dato de las variables\n",
    "print(type(n))\n",
    "print(type(pi))\n",
    "print(type(string1))\n",
    "print(type(booleano))"
   ]
  },
  {
   "cell_type": "markdown",
   "id": "d78ca158-168c-4936-86c5-8f2fdd127219",
   "metadata": {},
   "source": [
    "Por lo mismo de que en Python no tenemos que definir variables, tenemos que tener mucho cuidado al:\n",
    "\n",
    "* Sobreescribit variables\n",
    "* Usar variables con nombres largos\n",
    "\n",
    "Ve estos ejemplos"
   ]
  },
  {
   "cell_type": "code",
   "execution_count": null,
   "id": "d5241184-4c92-4a68-8f1a-553531d946c3",
   "metadata": {},
   "outputs": [],
   "source": [
    "# Ten cuidado al sobreescribir variables\n",
    "n = pi\n",
    "\n",
    "print('y asi de facil podemos redefinir n de ser un entero a ser un flotante!')\n",
    "print(n, type(n))"
   ]
  },
  {
   "cell_type": "code",
   "execution_count": null,
   "id": "8796beee-1cc5-49e0-83b1-38eaded789b6",
   "metadata": {},
   "outputs": [],
   "source": [
    "# Ten cuidado al usar nombres largos para tus variables\n",
    "\n",
    "variable_con_nombre_largo = 2\n",
    "\n",
    "# redefinamos esta variable\n",
    "varaible_con_nombre_largo = variable_con_nombre_largo + 1\n",
    "\n",
    "print('Esto deberia de darnos 3, ¿no?')\n",
    "print(variable_con_nombre_largo)"
   ]
  },
  {
   "cell_type": "markdown",
   "id": "7293ab72-0f4a-4424-aeb9-af5dda947438",
   "metadata": {},
   "source": [
    "Entonces, para estar seguros de que nuestra variable sea del tipo que queremos, siempre podemos definir estas de forma explicita."
   ]
  },
  {
   "cell_type": "code",
   "execution_count": null,
   "id": "b4e222f4-9969-42b5-ae78-c92b4aa86849",
   "metadata": {},
   "outputs": [],
   "source": [
    "n = int(3.1415)\n",
    "pi = float(7)\n",
    "\n",
    "print(n, type(n))\n",
    "print(pi, type(pi))"
   ]
  },
  {
   "cell_type": "markdown",
   "id": "bfd34119-ca60-4fb7-8411-5ad8bee6ff12",
   "metadata": {},
   "source": [
    "Veamos un poco de lógica binaria con booleanos"
   ]
  },
  {
   "cell_type": "code",
   "execution_count": null,
   "id": "7f856ef2-f28d-407e-b9f9-7fc4af731426",
   "metadata": {},
   "outputs": [],
   "source": [
    "# operaciones basicas con booleanos\n",
    "\n",
    "a = bool(0)\n",
    "b = bool(1)\n",
    "\n",
    "print(a,b)"
   ]
  },
  {
   "cell_type": "code",
   "execution_count": null,
   "id": "c31e910c-4128-4815-9038-a47587e9d1c3",
   "metadata": {},
   "outputs": [],
   "source": [
    "a = int(False)\n",
    "b = int(True)\n",
    "print(a,b)"
   ]
  },
  {
   "cell_type": "code",
   "execution_count": null,
   "id": "8f9703bf-2900-46d2-88fe-24aaa206873a",
   "metadata": {},
   "outputs": [],
   "source": [
    "# ¿Qué pasa con el bool de otros números?\n",
    "c = bool(7)\n",
    "d = bool(3.1415)\n",
    "\n",
    "print(c,d)"
   ]
  }
 ],
 "metadata": {
  "kernelspec": {
   "display_name": "hazlopython",
   "language": "python",
   "name": "hazlopython"
  },
  "language_info": {
   "codemirror_mode": {
    "name": "ipython",
    "version": 3
   },
   "file_extension": ".py",
   "mimetype": "text/x-python",
   "name": "python",
   "nbconvert_exporter": "python",
   "pygments_lexer": "ipython3",
   "version": "3.8.10"
  }
 },
 "nbformat": 4,
 "nbformat_minor": 5
}
