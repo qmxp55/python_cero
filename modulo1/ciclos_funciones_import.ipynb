{
 "cells": [
  {
   "cell_type": "markdown",
   "metadata": {},
   "source": [
    "<hr style=\"border: solid 1px red; margin-bottom: 2% \">\n",
    "\n",
    "## Hazlo Python curso de python\n",
    "# PYTHON DESDE CERO: Conceptos básicos\n",
    "### Autor: Omar Ruiz\n",
    "<hr style=\"border: solid 1px red; margin-bottom: -1%; \">\n",
    "<br>\n",
    "\n",
    "## Siguenos en:\n",
    "\n",
    "### TikTok: https://www.tiktok.com/@hazlopython\n",
    "### YouTube: https://youtube.com/channel/UCPDTTkT7P_RmVrO_J24ZeKQ\n",
    "### Instagram: https://www.instagram.com/hazlo.python/\n",
    "### Mas informacion: https://beacons.ai/hazlo.python\n",
    "\n",
    "<br>\n",
    "\n",
    "<img src=\"../imagenes/logo.png\" style=\"float: center; width: 30%\">\n",
    "<img src=\"../imagenes/qrcode_beacons.ai.png\" style=\"float: center; width: 10%\">\n"
   ]
  },
  {
   "cell_type": "markdown",
   "metadata": {},
   "source": [
    "<hr style=\"border: solid 1px green; margin-bottom: 2% \">\n",
    "\n",
    "## Contenido\n",
    "<br>\n",
    "\n",
    "### Modulo 1: Conceptos básicos\n",
    "\n",
    "* #### ¿Cómo usar Python?\n",
    "* #### Tipos de datos\n",
    "* #### Estructuras de datos\n",
    "* #### operadores de comparacion y logicos\n",
    "* #### <mark>Ciclos y condicionales</mark>\n",
    "* #### <mark>funciones</mark>\n",
    "* #### <mark>Importar modulos</mark>\n",
    "\n",
    "### Modulo 2: Numpy\n",
    "### Modulo 3: Matplotlib\n",
    "\n",
    "<br>\n",
    "\n",
    "## Material\n",
    "\n",
    "### GitHub: https://github.com/qmxp55/python_cero/blob/master/modulo1/ciclos_funciones_import.ipynb\n",
    "\n",
    "<hr style=\"border: solid 1px green; margin-bottom: 2% \">"
   ]
  },
  {
   "cell_type": "markdown",
   "metadata": {
    "tags": []
   },
   "source": [
    "<hr style=\"border: solid 1px red; margin-bottom: 1% \">\n",
    "\n",
    "## Ciclos y condicionales\n",
    "<hr style=\"border: solid 1px red; margin-bottom: 2% \">\n",
    "<br>\n",
    "\n",
    "* **for:** Ciclo\n",
    "* **while:** Ciclo\n",
    "* **if:** Condicional\n",
    "\n",
    "En Python se usa la `identacion` para separar el resto del coodigo de alguna de estas funciones. La `identacion` deben ser `4` espacios, no mas y no menos.\n",
    "\n",
    " "
   ]
  },
  {
   "cell_type": "code",
   "execution_count": 2,
   "metadata": {},
   "outputs": [
    {
     "name": "stdout",
     "output_type": "stream",
     "text": [
      "0\n",
      "1\n",
      "2\n",
      "3\n",
      "4\n",
      "Aqui estamos fuera del ciclo\n"
     ]
    }
   ],
   "source": [
    "# ciclo for\n",
    "\n",
    "for i in range(0, 5, 1):\n",
    "    print(i)\n",
    "\n",
    "print('Aqui estamos fuera del ciclo')\n"
   ]
  },
  {
   "cell_type": "code",
   "execution_count": 4,
   "metadata": {},
   "outputs": [
    {
     "name": "stdout",
     "output_type": "stream",
     "text": [
      "1\n",
      "3\n",
      "5.3\n",
      "8.4\n",
      "2.3\n"
     ]
    }
   ],
   "source": [
    "lista = [1, 3, 5.3, 8.4, 2.3]\n",
    "\n",
    "for e in lista:\n",
    "    print(e)"
   ]
  },
  {
   "cell_type": "code",
   "execution_count": 8,
   "metadata": {},
   "outputs": [
    {
     "name": "stdout",
     "output_type": "stream",
     "text": [
      "Elemento  0 tiene valor  1\n",
      "Elemento  1 tiene valor  3\n",
      "Elemento  2 tiene valor  5.3\n",
      "Elemento  3 tiene valor  8.4\n",
      "Elemento  4 tiene valor  2.3\n"
     ]
    }
   ],
   "source": [
    "lista = [1, 3, 5.3, 8.4, 2.3]\n",
    "\n",
    "for num, e in enumerate(lista):\n",
    "    print('Elemento ', num, 'tiene valor ', e)"
   ]
  },
  {
   "cell_type": "code",
   "execution_count": 2,
   "metadata": {},
   "outputs": [
    {
     "name": "stdout",
     "output_type": "stream",
     "text": [
      "0\n",
      "1\n",
      "2\n",
      "3\n",
      "4\n"
     ]
    }
   ],
   "source": [
    "num = 5\n",
    "i = 0\n",
    "while i < num:\n",
    "    print(i)\n",
    "    i += 1"
   ]
  },
  {
   "cell_type": "code",
   "execution_count": 3,
   "metadata": {},
   "outputs": [
    {
     "name": "stdout",
     "output_type": "stream",
     "text": [
      "Me encanta la manzana\n"
     ]
    }
   ],
   "source": [
    "a = 'manzana'\n",
    "b = 'naranja'\n",
    "\n",
    "if a == 'manzana':\n",
    "    print('Me encanta la %s' %(a))\n",
    "    "
   ]
  },
  {
   "cell_type": "code",
   "execution_count": 6,
   "metadata": {},
   "outputs": [
    {
     "name": "stdout",
     "output_type": "stream",
     "text": [
      "Es una manzana!\n",
      "Es una naranja!\n",
      "El tomate es una fruta?\n"
     ]
    }
   ],
   "source": [
    "for fruta in [a, b, 'tomate']:\n",
    "    if fruta == 'naranja':\n",
    "        print('Es una naranja!')\n",
    "    elif fruta == 'manzana':\n",
    "        print('Es una manzana!')\n",
    "    else:\n",
    "        print('El %s es una fruta?' %(fruta))"
   ]
  },
  {
   "cell_type": "code",
   "execution_count": 10,
   "metadata": {},
   "outputs": [
    {
     "name": "stdout",
     "output_type": "stream",
     "text": [
      "1 es menor a 7\n"
     ]
    }
   ],
   "source": [
    "a = 1\n",
    "b = 7\n",
    "\n",
    "if a < b:\n",
    "    print('%i es menor a %i' %(a,b))\n",
    "elif a > b:\n",
    "    print('%i es mayor a %i' %(a,b))\n",
    "else:\n",
    "    print('%i es igual a %i' %(a,b))\n"
   ]
  },
  {
   "cell_type": "markdown",
   "metadata": {
    "tags": []
   },
   "source": [
    "<hr style=\"border: solid 1px red; margin-bottom: 1% \">\n",
    "\n",
    "## Funciones\n",
    "<hr style=\"border: solid 1px red; margin-bottom: 2% \">\n",
    "<br>\n",
    "\n",
    "En Python una funcion es un bloque de codigo que solo se ejecuta cuando es llamado. A esto se le pasan parametros de todo tipo, desde variables basicas como `int`, `str`, `floats`, `bool`, hasta listas, dicccionarios y funciones mismas. Se define mediante:\n",
    "\n",
    "```python\n",
    "def ejemplo_funcion(var1, var2):\n",
    "\n",
    "    ```\n",
    "    Aqui va el DocString: la documentacion de que es lo que hace esta funcion.\n",
    "    ```\n",
    "    #cuerpo de la funcion\n",
    "\n",
    "    return resultado\n",
    "```\n",
    "\n",
    "\n",
    " "
   ]
  },
  {
   "cell_type": "code",
   "execution_count": 16,
   "metadata": {},
   "outputs": [
    {
     "name": "stdout",
     "output_type": "stream",
     "text": [
      "hola Omar. Buenos dias!\n"
     ]
    }
   ],
   "source": [
    "def hola(nombre):\n",
    "\n",
    "    print('hola %s. Buenos dias!' %(nombre))\n",
    "\n",
    "hola('Omar')"
   ]
  },
  {
   "cell_type": "code",
   "execution_count": 11,
   "metadata": {},
   "outputs": [],
   "source": [
    "\n",
    "def orden(a, b):\n",
    "\n",
    "    if a < b:\n",
    "        print('%i es menor a %i' %(a,b))\n",
    "    elif a > b:\n",
    "        print('%i es mayor a %i' %(a,b))\n",
    "    else:\n",
    "        print('%i es igual a %i' %(a,b))\n",
    "\n",
    "orden(4,2)"
   ]
  },
  {
   "cell_type": "code",
   "execution_count": 20,
   "metadata": {},
   "outputs": [
    {
     "data": {
      "text/plain": [
       "5"
      ]
     },
     "execution_count": 20,
     "metadata": {},
     "output_type": "execute_result"
    }
   ],
   "source": [
    "def absoluto(var):\n",
    "\n",
    "    if var < 0:\n",
    "        var = -var\n",
    "    \n",
    "    return var\n",
    "\n",
    "absoluto(-5)"
   ]
  },
  {
   "cell_type": "markdown",
   "metadata": {
    "tags": []
   },
   "source": [
    "<hr style=\"border: solid 1px red; margin-bottom: 1% \">\n",
    "\n",
    "## Importar modulos\n",
    "<hr style=\"border: solid 1px red; margin-bottom: 2% \">\n",
    "<br>\n",
    "\n",
    "En Python nos referimos a un modulo a una funcion o clase ya precounstruida. Podemos acceder a estas con el comando `import`. Para cargar todo el modulo/paquete:\n",
    "\n",
    "```python\n",
    "import paquete\n",
    "```\n",
    "\n",
    "Podemos cargar el paquete con un nombre diferente con:\n",
    "\n",
    "```python\n",
    "import paquete as pq\n",
    "```\n",
    "\n",
    "O, si queremos cargar funciones especificas de ese paquete, lo hacemos con:\n",
    "\n",
    "```python\n",
    "from paquete import funccion\n",
    "```\n",
    "\n",
    "\n",
    "\n",
    " "
   ]
  },
  {
   "cell_type": "code",
   "execution_count": 27,
   "metadata": {},
   "outputs": [
    {
     "name": "stdout",
     "output_type": "stream",
     "text": [
      "El promedio de la lista es: \t 28.142857\n",
      "La media de la lista es: \t 12.000000\n",
      "[ 1  2  5 12 34 45 98]\n"
     ]
    }
   ],
   "source": [
    "import numpy as np\n",
    "\n",
    "lista = [1, 5, 2, 45, 98, 12, 34]\n",
    "\n",
    "promedio = np.mean(lista)\n",
    "print('El promedio de la lista es: \\t %f' %(promedio))\n",
    "\n",
    "media = np.median(lista)\n",
    "print('La media de la lista es: \\t %f' %(media))\n",
    "\n",
    "lista_ordenada = np.sort(lista)\n",
    "print(lista_ordenada)\n"
   ]
  }
 ],
 "metadata": {
  "interpreter": {
   "hash": "ef2f59ba1db37f53fafe2f4c6104d9aee6529c2784708659be79ec563f1c1ddb"
  },
  "kernelspec": {
   "display_name": "Python 3.8.11 64-bit ('pythoncero': conda)",
   "name": "pythoncero"
  },
  "language_info": {
   "codemirror_mode": {
    "name": "ipython",
    "version": 3
   },
   "file_extension": ".py",
   "mimetype": "text/x-python",
   "name": "python",
   "nbconvert_exporter": "python",
   "pygments_lexer": "ipython3",
   "version": "3.8.11"
  }
 },
 "nbformat": 4,
 "nbformat_minor": 5
}